{
 "cells": [
  {
   "cell_type": "code",
   "execution_count": 1,
   "id": "4f1d9b67",
   "metadata": {},
   "outputs": [],
   "source": [
    "import pandas as pd\n",
    "import numpy as np \n",
    "import matplotlib.pyplot as plt\n",
    "import seaborn as sns\n",
    "import os\n",
    "from datetime import datetime\n",
    "import warnings\n",
    "warnings.filterwarnings('ignore')"
   ]
  },
  {
   "cell_type": "markdown",
   "id": "6b659831",
   "metadata": {},
   "source": [
    "## Empezamos con el Analisis "
   ]
  },
  {
   "cell_type": "code",
   "execution_count": 2,
   "id": "82557b4a",
   "metadata": {},
   "outputs": [],
   "source": [
    "url = \"../data/raw/marketing_data_simulated.csv\"\n",
    "df = pd.read_csv(url)"
   ]
  },
  {
   "cell_type": "code",
   "execution_count": 3,
   "id": "f489977b",
   "metadata": {},
   "outputs": [
    {
     "data": {
      "text/html": [
       "<div>\n",
       "<style scoped>\n",
       "    .dataframe tbody tr th:only-of-type {\n",
       "        vertical-align: middle;\n",
       "    }\n",
       "\n",
       "    .dataframe tbody tr th {\n",
       "        vertical-align: top;\n",
       "    }\n",
       "\n",
       "    .dataframe thead th {\n",
       "        text-align: right;\n",
       "    }\n",
       "</style>\n",
       "<table border=\"1\" class=\"dataframe\">\n",
       "  <thead>\n",
       "    <tr style=\"text-align: right;\">\n",
       "      <th></th>\n",
       "      <th>Date</th>\n",
       "      <th>Action_Type</th>\n",
       "      <th>Language</th>\n",
       "      <th>Content_Category</th>\n",
       "      <th>Day_of_Week</th>\n",
       "      <th>Impressions</th>\n",
       "      <th>CTR</th>\n",
       "      <th>Clicks</th>\n",
       "    </tr>\n",
       "  </thead>\n",
       "  <tbody>\n",
       "    <tr>\n",
       "      <th>0</th>\n",
       "      <td>2023-01-02</td>\n",
       "      <td>Instagram Post</td>\n",
       "      <td>English</td>\n",
       "      <td>Partners</td>\n",
       "      <td>Monday</td>\n",
       "      <td>1759</td>\n",
       "      <td>0.016391</td>\n",
       "      <td>29</td>\n",
       "    </tr>\n",
       "    <tr>\n",
       "      <th>1</th>\n",
       "      <td>2023-01-02</td>\n",
       "      <td>LinkedIn Post</td>\n",
       "      <td>Spanish</td>\n",
       "      <td>Events</td>\n",
       "      <td>Monday</td>\n",
       "      <td>1368</td>\n",
       "      <td>0.008438</td>\n",
       "      <td>12</td>\n",
       "    </tr>\n",
       "    <tr>\n",
       "      <th>2</th>\n",
       "      <td>2023-01-03</td>\n",
       "      <td>Instagram Post</td>\n",
       "      <td>Spanish</td>\n",
       "      <td>Humor</td>\n",
       "      <td>Tuesday</td>\n",
       "      <td>1573</td>\n",
       "      <td>0.016354</td>\n",
       "      <td>26</td>\n",
       "    </tr>\n",
       "    <tr>\n",
       "      <th>3</th>\n",
       "      <td>2023-01-03</td>\n",
       "      <td>LinkedIn Post</td>\n",
       "      <td>English</td>\n",
       "      <td>Events</td>\n",
       "      <td>Tuesday</td>\n",
       "      <td>1516</td>\n",
       "      <td>0.007464</td>\n",
       "      <td>11</td>\n",
       "    </tr>\n",
       "    <tr>\n",
       "      <th>4</th>\n",
       "      <td>2023-01-04</td>\n",
       "      <td>Instagram Post</td>\n",
       "      <td>Spanish</td>\n",
       "      <td>Partners</td>\n",
       "      <td>Wednesday</td>\n",
       "      <td>1821</td>\n",
       "      <td>0.013398</td>\n",
       "      <td>24</td>\n",
       "    </tr>\n",
       "    <tr>\n",
       "      <th>...</th>\n",
       "      <td>...</td>\n",
       "      <td>...</td>\n",
       "      <td>...</td>\n",
       "      <td>...</td>\n",
       "      <td>...</td>\n",
       "      <td>...</td>\n",
       "      <td>...</td>\n",
       "      <td>...</td>\n",
       "    </tr>\n",
       "    <tr>\n",
       "      <th>1111</th>\n",
       "      <td>2024-12-27</td>\n",
       "      <td>LinkedIn Post</td>\n",
       "      <td>Spanish</td>\n",
       "      <td>Platform Improvements</td>\n",
       "      <td>Friday</td>\n",
       "      <td>454</td>\n",
       "      <td>0.003422</td>\n",
       "      <td>2</td>\n",
       "    </tr>\n",
       "    <tr>\n",
       "      <th>1112</th>\n",
       "      <td>2024-12-30</td>\n",
       "      <td>Instagram Post</td>\n",
       "      <td>English</td>\n",
       "      <td>Humor</td>\n",
       "      <td>Monday</td>\n",
       "      <td>1153</td>\n",
       "      <td>0.013793</td>\n",
       "      <td>16</td>\n",
       "    </tr>\n",
       "    <tr>\n",
       "      <th>1113</th>\n",
       "      <td>2024-12-30</td>\n",
       "      <td>LinkedIn Post</td>\n",
       "      <td>English</td>\n",
       "      <td>Events</td>\n",
       "      <td>Monday</td>\n",
       "      <td>849</td>\n",
       "      <td>0.004059</td>\n",
       "      <td>3</td>\n",
       "    </tr>\n",
       "    <tr>\n",
       "      <th>1114</th>\n",
       "      <td>2024-12-31</td>\n",
       "      <td>Instagram Post</td>\n",
       "      <td>English</td>\n",
       "      <td>Events</td>\n",
       "      <td>Tuesday</td>\n",
       "      <td>1338</td>\n",
       "      <td>0.007941</td>\n",
       "      <td>11</td>\n",
       "    </tr>\n",
       "    <tr>\n",
       "      <th>1115</th>\n",
       "      <td>2024-12-31</td>\n",
       "      <td>LinkedIn Post</td>\n",
       "      <td>English</td>\n",
       "      <td>Platform Improvements</td>\n",
       "      <td>Tuesday</td>\n",
       "      <td>953</td>\n",
       "      <td>0.007764</td>\n",
       "      <td>7</td>\n",
       "    </tr>\n",
       "  </tbody>\n",
       "</table>\n",
       "<p>1116 rows × 8 columns</p>\n",
       "</div>"
      ],
      "text/plain": [
       "            Date     Action_Type Language       Content_Category Day_of_Week  \\\n",
       "0     2023-01-02  Instagram Post  English               Partners      Monday   \n",
       "1     2023-01-02   LinkedIn Post  Spanish                 Events      Monday   \n",
       "2     2023-01-03  Instagram Post  Spanish                  Humor     Tuesday   \n",
       "3     2023-01-03   LinkedIn Post  English                 Events     Tuesday   \n",
       "4     2023-01-04  Instagram Post  Spanish               Partners   Wednesday   \n",
       "...          ...             ...      ...                    ...         ...   \n",
       "1111  2024-12-27   LinkedIn Post  Spanish  Platform Improvements      Friday   \n",
       "1112  2024-12-30  Instagram Post  English                  Humor      Monday   \n",
       "1113  2024-12-30   LinkedIn Post  English                 Events      Monday   \n",
       "1114  2024-12-31  Instagram Post  English                 Events     Tuesday   \n",
       "1115  2024-12-31   LinkedIn Post  English  Platform Improvements     Tuesday   \n",
       "\n",
       "      Impressions       CTR  Clicks  \n",
       "0            1759  0.016391      29  \n",
       "1            1368  0.008438      12  \n",
       "2            1573  0.016354      26  \n",
       "3            1516  0.007464      11  \n",
       "4            1821  0.013398      24  \n",
       "...           ...       ...     ...  \n",
       "1111          454  0.003422       2  \n",
       "1112         1153  0.013793      16  \n",
       "1113          849  0.004059       3  \n",
       "1114         1338  0.007941      11  \n",
       "1115          953  0.007764       7  \n",
       "\n",
       "[1116 rows x 8 columns]"
      ]
     },
     "execution_count": 3,
     "metadata": {},
     "output_type": "execute_result"
    }
   ],
   "source": [
    "df"
   ]
  },
  {
   "cell_type": "code",
   "execution_count": 4,
   "id": "f6e20343",
   "metadata": {},
   "outputs": [
    {
     "data": {
      "text/html": [
       "<div>\n",
       "<style scoped>\n",
       "    .dataframe tbody tr th:only-of-type {\n",
       "        vertical-align: middle;\n",
       "    }\n",
       "\n",
       "    .dataframe tbody tr th {\n",
       "        vertical-align: top;\n",
       "    }\n",
       "\n",
       "    .dataframe thead th {\n",
       "        text-align: right;\n",
       "    }\n",
       "</style>\n",
       "<table border=\"1\" class=\"dataframe\">\n",
       "  <thead>\n",
       "    <tr style=\"text-align: right;\">\n",
       "      <th></th>\n",
       "      <th>Date</th>\n",
       "      <th>Action_Type</th>\n",
       "      <th>Language</th>\n",
       "      <th>Content_Category</th>\n",
       "      <th>Day_of_Week</th>\n",
       "      <th>Impressions</th>\n",
       "      <th>CTR</th>\n",
       "      <th>Clicks</th>\n",
       "    </tr>\n",
       "  </thead>\n",
       "  <tbody>\n",
       "    <tr>\n",
       "      <th>0</th>\n",
       "      <td>2023-01-02</td>\n",
       "      <td>Instagram Post</td>\n",
       "      <td>English</td>\n",
       "      <td>Partners</td>\n",
       "      <td>Monday</td>\n",
       "      <td>1759</td>\n",
       "      <td>0.016391</td>\n",
       "      <td>29</td>\n",
       "    </tr>\n",
       "    <tr>\n",
       "      <th>1</th>\n",
       "      <td>2023-01-02</td>\n",
       "      <td>LinkedIn Post</td>\n",
       "      <td>Spanish</td>\n",
       "      <td>Events</td>\n",
       "      <td>Monday</td>\n",
       "      <td>1368</td>\n",
       "      <td>0.008438</td>\n",
       "      <td>12</td>\n",
       "    </tr>\n",
       "    <tr>\n",
       "      <th>2</th>\n",
       "      <td>2023-01-03</td>\n",
       "      <td>Instagram Post</td>\n",
       "      <td>Spanish</td>\n",
       "      <td>Humor</td>\n",
       "      <td>Tuesday</td>\n",
       "      <td>1573</td>\n",
       "      <td>0.016354</td>\n",
       "      <td>26</td>\n",
       "    </tr>\n",
       "    <tr>\n",
       "      <th>3</th>\n",
       "      <td>2023-01-03</td>\n",
       "      <td>LinkedIn Post</td>\n",
       "      <td>English</td>\n",
       "      <td>Events</td>\n",
       "      <td>Tuesday</td>\n",
       "      <td>1516</td>\n",
       "      <td>0.007464</td>\n",
       "      <td>11</td>\n",
       "    </tr>\n",
       "    <tr>\n",
       "      <th>4</th>\n",
       "      <td>2023-01-04</td>\n",
       "      <td>Instagram Post</td>\n",
       "      <td>Spanish</td>\n",
       "      <td>Partners</td>\n",
       "      <td>Wednesday</td>\n",
       "      <td>1821</td>\n",
       "      <td>0.013398</td>\n",
       "      <td>24</td>\n",
       "    </tr>\n",
       "  </tbody>\n",
       "</table>\n",
       "</div>"
      ],
      "text/plain": [
       "         Date     Action_Type Language Content_Category Day_of_Week  \\\n",
       "0  2023-01-02  Instagram Post  English         Partners      Monday   \n",
       "1  2023-01-02   LinkedIn Post  Spanish           Events      Monday   \n",
       "2  2023-01-03  Instagram Post  Spanish            Humor     Tuesday   \n",
       "3  2023-01-03   LinkedIn Post  English           Events     Tuesday   \n",
       "4  2023-01-04  Instagram Post  Spanish         Partners   Wednesday   \n",
       "\n",
       "   Impressions       CTR  Clicks  \n",
       "0         1759  0.016391      29  \n",
       "1         1368  0.008438      12  \n",
       "2         1573  0.016354      26  \n",
       "3         1516  0.007464      11  \n",
       "4         1821  0.013398      24  "
      ]
     },
     "execution_count": 4,
     "metadata": {},
     "output_type": "execute_result"
    }
   ],
   "source": [
    "df.head()"
   ]
  },
  {
   "cell_type": "code",
   "execution_count": 5,
   "id": "537495f8",
   "metadata": {},
   "outputs": [
    {
     "data": {
      "text/html": [
       "<div>\n",
       "<style scoped>\n",
       "    .dataframe tbody tr th:only-of-type {\n",
       "        vertical-align: middle;\n",
       "    }\n",
       "\n",
       "    .dataframe tbody tr th {\n",
       "        vertical-align: top;\n",
       "    }\n",
       "\n",
       "    .dataframe thead th {\n",
       "        text-align: right;\n",
       "    }\n",
       "</style>\n",
       "<table border=\"1\" class=\"dataframe\">\n",
       "  <thead>\n",
       "    <tr style=\"text-align: right;\">\n",
       "      <th></th>\n",
       "      <th>Date</th>\n",
       "      <th>Action_Type</th>\n",
       "      <th>Language</th>\n",
       "      <th>Content_Category</th>\n",
       "      <th>Day_of_Week</th>\n",
       "      <th>Impressions</th>\n",
       "      <th>CTR</th>\n",
       "      <th>Clicks</th>\n",
       "    </tr>\n",
       "  </thead>\n",
       "  <tbody>\n",
       "    <tr>\n",
       "      <th>1111</th>\n",
       "      <td>2024-12-27</td>\n",
       "      <td>LinkedIn Post</td>\n",
       "      <td>Spanish</td>\n",
       "      <td>Platform Improvements</td>\n",
       "      <td>Friday</td>\n",
       "      <td>454</td>\n",
       "      <td>0.003422</td>\n",
       "      <td>2</td>\n",
       "    </tr>\n",
       "    <tr>\n",
       "      <th>1112</th>\n",
       "      <td>2024-12-30</td>\n",
       "      <td>Instagram Post</td>\n",
       "      <td>English</td>\n",
       "      <td>Humor</td>\n",
       "      <td>Monday</td>\n",
       "      <td>1153</td>\n",
       "      <td>0.013793</td>\n",
       "      <td>16</td>\n",
       "    </tr>\n",
       "    <tr>\n",
       "      <th>1113</th>\n",
       "      <td>2024-12-30</td>\n",
       "      <td>LinkedIn Post</td>\n",
       "      <td>English</td>\n",
       "      <td>Events</td>\n",
       "      <td>Monday</td>\n",
       "      <td>849</td>\n",
       "      <td>0.004059</td>\n",
       "      <td>3</td>\n",
       "    </tr>\n",
       "    <tr>\n",
       "      <th>1114</th>\n",
       "      <td>2024-12-31</td>\n",
       "      <td>Instagram Post</td>\n",
       "      <td>English</td>\n",
       "      <td>Events</td>\n",
       "      <td>Tuesday</td>\n",
       "      <td>1338</td>\n",
       "      <td>0.007941</td>\n",
       "      <td>11</td>\n",
       "    </tr>\n",
       "    <tr>\n",
       "      <th>1115</th>\n",
       "      <td>2024-12-31</td>\n",
       "      <td>LinkedIn Post</td>\n",
       "      <td>English</td>\n",
       "      <td>Platform Improvements</td>\n",
       "      <td>Tuesday</td>\n",
       "      <td>953</td>\n",
       "      <td>0.007764</td>\n",
       "      <td>7</td>\n",
       "    </tr>\n",
       "  </tbody>\n",
       "</table>\n",
       "</div>"
      ],
      "text/plain": [
       "            Date     Action_Type Language       Content_Category Day_of_Week  \\\n",
       "1111  2024-12-27   LinkedIn Post  Spanish  Platform Improvements      Friday   \n",
       "1112  2024-12-30  Instagram Post  English                  Humor      Monday   \n",
       "1113  2024-12-30   LinkedIn Post  English                 Events      Monday   \n",
       "1114  2024-12-31  Instagram Post  English                 Events     Tuesday   \n",
       "1115  2024-12-31   LinkedIn Post  English  Platform Improvements     Tuesday   \n",
       "\n",
       "      Impressions       CTR  Clicks  \n",
       "1111          454  0.003422       2  \n",
       "1112         1153  0.013793      16  \n",
       "1113          849  0.004059       3  \n",
       "1114         1338  0.007941      11  \n",
       "1115          953  0.007764       7  "
      ]
     },
     "execution_count": 5,
     "metadata": {},
     "output_type": "execute_result"
    }
   ],
   "source": [
    "df.tail()"
   ]
  },
  {
   "cell_type": "code",
   "execution_count": 6,
   "id": "ccec83df",
   "metadata": {},
   "outputs": [
    {
     "data": {
      "text/plain": [
       "(1116, 8)"
      ]
     },
     "execution_count": 6,
     "metadata": {},
     "output_type": "execute_result"
    }
   ],
   "source": [
    "df.shape"
   ]
  },
  {
   "cell_type": "code",
   "execution_count": 7,
   "id": "f06545dc",
   "metadata": {},
   "outputs": [
    {
     "name": "stdout",
     "output_type": "stream",
     "text": [
      "<class 'pandas.core.frame.DataFrame'>\n",
      "RangeIndex: 1116 entries, 0 to 1115\n",
      "Data columns (total 8 columns):\n",
      " #   Column            Non-Null Count  Dtype  \n",
      "---  ------            --------------  -----  \n",
      " 0   Date              1116 non-null   object \n",
      " 1   Action_Type       1116 non-null   object \n",
      " 2   Language          1116 non-null   object \n",
      " 3   Content_Category  1116 non-null   object \n",
      " 4   Day_of_Week       1116 non-null   object \n",
      " 5   Impressions       1116 non-null   int64  \n",
      " 6   CTR               1116 non-null   float64\n",
      " 7   Clicks            1116 non-null   int64  \n",
      "dtypes: float64(1), int64(2), object(5)\n",
      "memory usage: 69.9+ KB\n"
     ]
    }
   ],
   "source": [
    "df.info()"
   ]
  },
  {
   "cell_type": "markdown",
   "id": "7b1cdf31",
   "metadata": {},
   "source": [
    "## Verificamos que no hay Nulos"
   ]
  },
  {
   "cell_type": "code",
   "execution_count": 8,
   "id": "d3265301",
   "metadata": {},
   "outputs": [
    {
     "data": {
      "text/plain": [
       "Date                0\n",
       "Action_Type         0\n",
       "Language            0\n",
       "Content_Category    0\n",
       "Day_of_Week         0\n",
       "Impressions         0\n",
       "CTR                 0\n",
       "Clicks              0\n",
       "dtype: int64"
      ]
     },
     "execution_count": 8,
     "metadata": {},
     "output_type": "execute_result"
    }
   ],
   "source": [
    "df.isnull().sum()"
   ]
  },
  {
   "cell_type": "markdown",
   "id": "181afda1",
   "metadata": {},
   "source": [
    "## Empezar transformacion  de datos "
   ]
  },
  {
   "cell_type": "code",
   "execution_count": 12,
   "id": "222cfff7",
   "metadata": {},
   "outputs": [],
   "source": [
    "import re\n",
    "\n",
    "# Read the raw data\n",
    "with open('../data/raw/marketing_data_simulated.csv', 'r') as file:\n",
    "    lines = file.readlines()\n",
    "data = []\n",
    "for line in lines:\n",
    "    match = re.match(r'([^,]+),\"([^\"]+)\",\"([^\"]+)\",\"([^\"]+)\",\"([^\"]+)\",(\\d+),([0-9.]+),(\\d+)', line.strip())\n",
    "    if match:\n",
    "        date, action_type, language, content_category, day_of_week, impressions, ctr, clicks = match.groups()\n",
    "        data.append({\n",
    "            'Date': date,\n",
    "            'Action_Type': action_type,\n",
    "            'Language': language,\n",
    "            'Content_Category': content_category,\n",
    "            'Day_of_Week': day_of_week,\n",
    "            'Impressions': int(impressions),\n",
    "            'CTR': float(ctr),\n",
    "            'Clicks': int(clicks)\n",
    "        })"
   ]
  },
  {
   "cell_type": "code",
   "execution_count": 13,
   "id": "75a101e1",
   "metadata": {},
   "outputs": [],
   "source": [
    "df['Date'] = pd.to_datetime(df['Date'])\n",
    "df['Month'] = df['Date'].dt.month\n",
    "df['Year'] = df['Date'].dt.year\n",
    "df['Month_Year'] = df['Date'].dt.to_period('M')"
   ]
  },
  {
   "cell_type": "markdown",
   "id": "97226aa7",
   "metadata": {},
   "source": [
    "## Analisis descriptivo"
   ]
  },
  {
   "cell_type": "code",
   "execution_count": 14,
   "id": "4e179a87",
   "metadata": {},
   "outputs": [
    {
     "name": "stdout",
     "output_type": "stream",
     "text": [
      "Action_Type: 3 valores únicos\n",
      "  Valores: ['Instagram Post' 'LinkedIn Post' 'Newsletter']\n",
      "\n",
      "Language: 7 valores únicos\n",
      "  Valores: ['English' 'Spanish' 'French' 'Italian' 'Spanish (Spain)'\n",
      " 'Spanish (LatAm)' 'Portuguese']\n",
      "\n",
      "Content_Category: 6 valores únicos\n",
      "  Valores: ['Partners' 'Events' 'Humor' 'Marketing Automation'\n",
      " 'Platform Improvements' 'Monthly Newsletter']\n",
      "\n",
      "Day_of_Week: 7 valores únicos\n",
      "  Valores: ['Monday' 'Tuesday' 'Wednesday' 'Thursday' 'Friday' 'Sunday' 'Saturday']\n",
      "\n"
     ]
    }
   ],
   "source": [
    "for col in df.select_dtypes(include=['object']).columns:\n",
    "    if col != 'Date':\n",
    "        print(f\"{col}: {df[col].nunique()} valores únicos\")\n",
    "        print(f\"  Valores: {df[col].unique()}\")\n",
    "        print()"
   ]
  },
  {
   "cell_type": "markdown",
   "id": "efd2c0d1",
   "metadata": {},
   "source": [
    "## Canal de distribución"
   ]
  },
  {
   "cell_type": "code",
   "execution_count": 15,
   "id": "2a61f97f",
   "metadata": {},
   "outputs": [
    {
     "name": "stdout",
     "output_type": "stream",
     "text": [
      "Action_Type\n",
      "Instagram Post    522\n",
      "LinkedIn Post     522\n",
      "Newsletter         72\n",
      "Name: count, dtype: int64\n",
      "\n",
      "Porcentajes:\n",
      "Action_Type\n",
      "Instagram Post    46.774194\n",
      "LinkedIn Post     46.774194\n",
      "Newsletter         6.451613\n",
      "Name: proportion, dtype: float64\n"
     ]
    }
   ],
   "source": [
    "print(df['Action_Type'].value_counts())\n",
    "print(f\"\\nPorcentajes:\")\n",
    "print(df['Action_Type'].value_counts(normalize=True) * 100)"
   ]
  },
  {
   "cell_type": "markdown",
   "id": "75863e58",
   "metadata": {},
   "source": [
    "## Estadísticas descriptivas"
   ]
  },
  {
   "cell_type": "code",
   "execution_count": 16,
   "id": "6bc165ef",
   "metadata": {},
   "outputs": [
    {
     "data": {
      "text/html": [
       "<div>\n",
       "<style scoped>\n",
       "    .dataframe tbody tr th:only-of-type {\n",
       "        vertical-align: middle;\n",
       "    }\n",
       "\n",
       "    .dataframe tbody tr th {\n",
       "        vertical-align: top;\n",
       "    }\n",
       "\n",
       "    .dataframe thead th {\n",
       "        text-align: right;\n",
       "    }\n",
       "</style>\n",
       "<table border=\"1\" class=\"dataframe\">\n",
       "  <thead>\n",
       "    <tr style=\"text-align: right;\">\n",
       "      <th></th>\n",
       "      <th>Date</th>\n",
       "      <th>Impressions</th>\n",
       "      <th>CTR</th>\n",
       "      <th>Clicks</th>\n",
       "      <th>Month</th>\n",
       "      <th>Year</th>\n",
       "    </tr>\n",
       "  </thead>\n",
       "  <tbody>\n",
       "    <tr>\n",
       "      <th>count</th>\n",
       "      <td>1116</td>\n",
       "      <td>1116.000000</td>\n",
       "      <td>1116.000000</td>\n",
       "      <td>1116.000000</td>\n",
       "      <td>1116.000000</td>\n",
       "      <td>1116.000000</td>\n",
       "    </tr>\n",
       "    <tr>\n",
       "      <th>mean</th>\n",
       "      <td>2023-12-31 19:21:17.419354880</td>\n",
       "      <td>2469.619176</td>\n",
       "      <td>0.020529</td>\n",
       "      <td>105.397849</td>\n",
       "      <td>6.501792</td>\n",
       "      <td>2023.501792</td>\n",
       "    </tr>\n",
       "    <tr>\n",
       "      <th>min</th>\n",
       "      <td>2023-01-02 00:00:00</td>\n",
       "      <td>155.000000</td>\n",
       "      <td>0.000975</td>\n",
       "      <td>0.000000</td>\n",
       "      <td>1.000000</td>\n",
       "      <td>2023.000000</td>\n",
       "    </tr>\n",
       "    <tr>\n",
       "      <th>25%</th>\n",
       "      <td>2023-07-03 00:00:00</td>\n",
       "      <td>1509.750000</td>\n",
       "      <td>0.010522</td>\n",
       "      <td>16.000000</td>\n",
       "      <td>4.000000</td>\n",
       "      <td>2023.000000</td>\n",
       "    </tr>\n",
       "    <tr>\n",
       "      <th>50%</th>\n",
       "      <td>2024-01-01 12:00:00</td>\n",
       "      <td>1850.500000</td>\n",
       "      <td>0.014112</td>\n",
       "      <td>25.000000</td>\n",
       "      <td>7.000000</td>\n",
       "      <td>2024.000000</td>\n",
       "    </tr>\n",
       "    <tr>\n",
       "      <th>75%</th>\n",
       "      <td>2024-07-02 00:00:00</td>\n",
       "      <td>2303.000000</td>\n",
       "      <td>0.018480</td>\n",
       "      <td>42.000000</td>\n",
       "      <td>10.000000</td>\n",
       "      <td>2024.000000</td>\n",
       "    </tr>\n",
       "    <tr>\n",
       "      <th>max</th>\n",
       "      <td>2024-12-31 00:00:00</td>\n",
       "      <td>17357.000000</td>\n",
       "      <td>0.157108</td>\n",
       "      <td>2512.000000</td>\n",
       "      <td>12.000000</td>\n",
       "      <td>2024.000000</td>\n",
       "    </tr>\n",
       "    <tr>\n",
       "      <th>std</th>\n",
       "      <td>NaN</td>\n",
       "      <td>2369.047376</td>\n",
       "      <td>0.023838</td>\n",
       "      <td>304.042624</td>\n",
       "      <td>3.449442</td>\n",
       "      <td>0.500221</td>\n",
       "    </tr>\n",
       "  </tbody>\n",
       "</table>\n",
       "</div>"
      ],
      "text/plain": [
       "                                Date   Impressions          CTR       Clicks  \\\n",
       "count                           1116   1116.000000  1116.000000  1116.000000   \n",
       "mean   2023-12-31 19:21:17.419354880   2469.619176     0.020529   105.397849   \n",
       "min              2023-01-02 00:00:00    155.000000     0.000975     0.000000   \n",
       "25%              2023-07-03 00:00:00   1509.750000     0.010522    16.000000   \n",
       "50%              2024-01-01 12:00:00   1850.500000     0.014112    25.000000   \n",
       "75%              2024-07-02 00:00:00   2303.000000     0.018480    42.000000   \n",
       "max              2024-12-31 00:00:00  17357.000000     0.157108  2512.000000   \n",
       "std                              NaN   2369.047376     0.023838   304.042624   \n",
       "\n",
       "             Month         Year  \n",
       "count  1116.000000  1116.000000  \n",
       "mean      6.501792  2023.501792  \n",
       "min       1.000000  2023.000000  \n",
       "25%       4.000000  2023.000000  \n",
       "50%       7.000000  2024.000000  \n",
       "75%      10.000000  2024.000000  \n",
       "max      12.000000  2024.000000  \n",
       "std       3.449442     0.500221  "
      ]
     },
     "execution_count": 16,
     "metadata": {},
     "output_type": "execute_result"
    }
   ],
   "source": [
    "df.describe()"
   ]
  },
  {
   "cell_type": "code",
   "execution_count": 17,
   "id": "a84a0e14",
   "metadata": {},
   "outputs": [
    {
     "name": "stdout",
     "output_type": "stream",
     "text": [
      "\n",
      "--- Estadísticas descriptivas de métricas ---\n",
      "        Impressions          CTR       Clicks\n",
      "count   1116.000000  1116.000000  1116.000000\n",
      "mean    2469.619176     0.020529   105.397849\n",
      "std     2369.047376     0.023838   304.042624\n",
      "min      155.000000     0.000975     0.000000\n",
      "25%     1509.750000     0.010522    16.000000\n",
      "50%     1850.500000     0.014112    25.000000\n",
      "75%     2303.000000     0.018480    42.000000\n",
      "max    17357.000000     0.157108  2512.000000\n"
     ]
    }
   ],
   "source": [
    "print(\"\\n--- Estadísticas descriptivas de métricas ---\")\n",
    "print(df[['Impressions', 'CTR', 'Clicks']].describe())"
   ]
  },
  {
   "cell_type": "code",
   "execution_count": 22,
   "id": "26dd5aa2",
   "metadata": {},
   "outputs": [
    {
     "name": "stdout",
     "output_type": "stream",
     "text": [
      "\n",
      "📅 Rango de fechas:\n",
      "Desde: 2023-01-02\n",
      "Hasta: 2024-12-31\n",
      "Duración: 729 días\n"
     ]
    }
   ],
   "source": [
    "print(\"\\n📅 Rango de fechas:\")\n",
    "print(f\"Desde: {df['Date'].min().strftime('%Y-%m-%d')}\")\n",
    "print(f\"Hasta: {df['Date'].max().strftime('%Y-%m-%d')}\")\n",
    "print(f\"Duración: {(df['Date'].max() - df['Date'].min()).days} días\")"
   ]
  },
  {
   "cell_type": "markdown",
   "id": "46ca6d85",
   "metadata": {},
   "source": [
    "## Valores unicos por colummna categorica"
   ]
  },
  {
   "cell_type": "code",
   "execution_count": 23,
   "id": "fb74b9f5",
   "metadata": {},
   "outputs": [
    {
     "name": "stdout",
     "output_type": "stream",
     "text": [
      "\n",
      "Action_Type:\n",
      "  Instagram Post: 522 (46.8%)\n",
      "  LinkedIn Post: 522 (46.8%)\n",
      "  Newsletter: 72 (6.5%)\n",
      "\n",
      "Language:\n",
      "  English: 443 (39.7%)\n",
      "  Spanish: 424 (38.0%)\n",
      "  Italian: 74 (6.6%)\n",
      "  French: 64 (5.7%)\n",
      "  Portuguese: 63 (5.6%)\n",
      "  Spanish (Spain): 24 (2.2%)\n",
      "  Spanish (LatAm): 24 (2.2%)\n",
      "\n",
      "Content_Category:\n",
      "  Platform Improvements: 287 (25.7%)\n",
      "  Marketing Automation: 271 (24.3%)\n",
      "  Humor: 202 (18.1%)\n",
      "  Events: 147 (13.2%)\n",
      "  Partners: 137 (12.3%)\n",
      "  Monthly Newsletter: 72 (6.5%)\n",
      "\n",
      "Day_of_Week:\n",
      "  Monday: 222 (19.9%)\n",
      "  Wednesday: 220 (19.7%)\n",
      "  Friday: 220 (19.7%)\n",
      "  Thursday: 217 (19.4%)\n",
      "  Tuesday: 216 (19.4%)\n",
      "  Sunday: 12 (1.1%)\n",
      "  Saturday: 9 (0.8%)\n"
     ]
    }
   ],
   "source": [
    "categorical_cols = ['Action_Type', 'Language', 'Content_Category', 'Day_of_Week']\n",
    "for col in categorical_cols:\n",
    "    print(f\"\\n{col}:\")\n",
    "    value_counts = df[col].value_counts()\n",
    "    for value, count in value_counts.items():\n",
    "        percentage = (count / len(df)) * 100\n",
    "        print(f\"  {value}: {count} ({percentage:.1f}%)\")"
   ]
  },
  {
   "cell_type": "markdown",
   "id": "3a6ca12f",
   "metadata": {},
   "source": [
    "### Metricas clave"
   ]
  },
  {
   "cell_type": "code",
   "execution_count": 24,
   "id": "66c42794",
   "metadata": {},
   "outputs": [
    {
     "name": "stdout",
     "output_type": "stream",
     "text": [
      "Total de impresiones: 2,756,095\n",
      "Total de clicks: 117,624\n",
      "CTR promedio: 0.0205 (2.05%)\n",
      "CTR mediano: 0.0141 (1.41%)\n"
     ]
    }
   ],
   "source": [
    "print(f\"Total de impresiones: {df['Impressions'].sum():,}\")\n",
    "print(f\"Total de clicks: {df['Clicks'].sum():,}\")\n",
    "print(f\"CTR promedio: {df['CTR'].mean():.4f} ({df['CTR'].mean()*100:.2f}%)\")\n",
    "print(f\"CTR mediano: {df['CTR'].median():.4f} ({df['CTR'].median()*100:.2f}%)\")"
   ]
  }
 ],
 "metadata": {
  "kernelspec": {
   "display_name": "campa-a-ctr",
   "language": "python",
   "name": "python3"
  },
  "language_info": {
   "codemirror_mode": {
    "name": "ipython",
    "version": 3
   },
   "file_extension": ".py",
   "mimetype": "text/x-python",
   "name": "python",
   "nbconvert_exporter": "python",
   "pygments_lexer": "ipython3",
   "version": "3.11.11"
  }
 },
 "nbformat": 4,
 "nbformat_minor": 5
}
